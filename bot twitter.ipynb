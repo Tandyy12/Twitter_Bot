{
 "cells": [
  {
   "cell_type": "code",
   "execution_count": null,
   "metadata": {},
   "outputs": [],
   "source": [
    "from contextlib import nullcontext\n",
    "import tweepy\n",
    "import time\n",
    "import random\n",
    "\n",
    "#credenciais de acesso para o twitter \n",
    "api_key = 'XXXXXXXXXXXXXXXXXXXXXXXXXXXXXXXX",
    "api_secret_key = 'XXXXXXXXXXXXXXXXXXXXXXXXXXXXXXX",
    "bearer_token='XXXXXXXXXXXXXXXXXXXXXXXXXXXXXXXXXXXXXXXXXXXXXXXXXXXXXXXXXXXXXXXXX",
    "acess_token = 'XXXXXXXXXXXXXXXXXXXXXXXXXXXXXXXXXXXXXXXXXXXXXXXXXXXXXXXXXXXXXXXXXXX",
    "acess_token_secret = 'XXXXXXXXXXXXXXXXXXXXXXXXXXXXXXXXXXXXXXXXXXXXXXXXXXXXXXXXXXXXXXX",
    "\n",
    "##sistema de autenticação \n",
    "\n",
    "auth = tweepy.OAuthHandler(api_key, api_secret_key)\n",
    "auth.set_access_token(acess_token, acess_token_secret)\n",
    "\n",
    "api = tweepy.API(auth,wait_on_rate_limit = True)\n",
    "\n",
    "FILE_NAME = \"ultimo_visto.txt\"\n",
    "\n",
    "def retrieve_last_seen_id(file_name):\n",
    "    f_read= open(file_name, 'r')\n",
    "    last_seen_id = int(f_read.read().strip())\n",
    "    f_read.close()\n",
    "    return last_seen_id\n",
    "\n",
    "def store_last_seen_id(last_seen_id, file_name):\n",
    "    f_write = open(file_name, 'w')\n",
    "    f_write.write(str(last_seen_id))\n",
    "    f_write.close()\n",
    "    return\n",
    "\n",
    "def frase_aleatoria():\n",
    "     frase = [\"Quero ir embora\",\"To com sono\",\"Vou trancar o curso\",\"Namoro é um contrato social complicado\",\"O pai ta bem não\",\"GALO\",\"Porque você ta de brim?\",\"Maluco estranho\",\"To disc\",\"Apenas o basico\",\"Justo\", \"Isso é maravilhoso\",\"Toca Stay\",\"Cala boca igão\",\"Mano to feliz por não ser você\",\"Vamo ir embora no intervalo\",\"Aula chata do krl\",\"Vou de Jhin\",\"Meu Cerebro ta desligado\",\"To com fome\",\"É foda\"]\n",
    "     frase_random = random.choice(frase)\n",
    "     return frase_random\n",
    "\n",
    "\n",
    "def __main__():\n",
    "    last_seen_id=retrieve_last_seen_id(FILE_NAME)\n",
    "    tweets = api.mentions_timeline(last_seen_id,\n",
    "    tweet_mode='extended')\n",
    "    print(\"buscando...\")\n",
    "\n",
    "    for tweet in reversed(tweets):\n",
    "        try:\n",
    "            print(f\"Ultimo ID pesquisado:  {tweet.id}\")\n",
    "            last_seen_id = tweet.id\n",
    "            store_last_seen_id(last_seen_id, FILE_NAME)\n",
    "            print(\"marcação encontrada\")\n",
    "            print(\"respondendo...\")\n",
    "            frase_tweet = frase_aleatoria()\n",
    "            api.update_status(status=f\"@\"  +tweet.user.screen_name + \" \" +  frase_tweet, in_reply_to_status_id = tweet.id)\n",
    "        except nullcontext():\n",
    "            nullcontext\n",
    "\n",
    "\n",
    "while True:\n",
    "    __main__()\n",
    "    time.sleep(15)"
   ]
  }
 ],
 "metadata": {
  "kernelspec": {
   "display_name": "Python 3.10.1 64-bit",
   "language": "python",
   "name": "python3"
  },
  "language_info": {
   "codemirror_mode": {
    "name": "ipython",
    "version": 3
   },
   "file_extension": ".py",
   "mimetype": "text/x-python",
   "name": "python",
   "nbconvert_exporter": "python",
   "pygments_lexer": "ipython3",
   "version": "3.10.1"
  },
  "orig_nbformat": 4,
  "vscode": {
   "interpreter": {
    "hash": "aa6916aff6a3002a58fc882c7fc875f266bcd76aa0833aad99389b57393520b7"
   }
  }
 },
 "nbformat": 4,
 "nbformat_minor": 2
}
